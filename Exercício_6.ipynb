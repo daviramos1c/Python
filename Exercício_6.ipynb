{
  "nbformat": 4,
  "nbformat_minor": 0,
  "metadata": {
    "kernelspec": {
      "display_name": "Python 3",
      "language": "python",
      "name": "python3"
    },
    "language_info": {
      "codemirror_mode": {
        "name": "ipython",
        "version": 3
      },
      "file_extension": ".py",
      "mimetype": "text/x-python",
      "name": "python",
      "nbconvert_exporter": "python",
      "pygments_lexer": "ipython3",
      "version": "3.8.8"
    },
    "colab": {
      "provenance": [],
      "include_colab_link": true
    }
  },
  "cells": [
    {
      "cell_type": "markdown",
      "metadata": {
        "id": "view-in-github",
        "colab_type": "text"
      },
      "source": [
        "<a href=\"https://colab.research.google.com/github/daviramos1c/Python/blob/main/Exerc%C3%ADcio_6.ipynb\" target=\"_parent\"><img src=\"https://colab.research.google.com/assets/colab-badge.svg\" alt=\"Open In Colab\"/></a>"
      ]
    },
    {
      "cell_type": "markdown",
      "metadata": {
        "id": "otAALMRAgVFs"
      },
      "source": [
        "# Exercícios, insira os valores abaixo em variáveis.\n",
        "\n",
        "Nome:\n",
        "\n",
        "Turma: Tarde ou Noite\n",
        "\n",
        "Curso que faz na ETEC:\n",
        "\n",
        "Período do Curso:\n",
        "\n"
      ]
    },
    {
      "cell_type": "markdown",
      "metadata": {
        "id": "mtO7KYI4gVGN"
      },
      "source": [
        "### Exercícios com todos os conteúdos aplicados até o momento."
      ]
    },
    {
      "cell_type": "code",
      "metadata": {
        "id": "sNDVkTvxqFeG"
      },
      "source": [
        "# Exercício 1 inserir os seus dados acima em variáveis\n",
        "#Exemplo\n",
        "nome = \"Davizin legal\"\n",
        "turma = \"1°C\"\n",
        "curso: \"TI\"\n",
        "período: \"Manhã\""
      ],
      "execution_count": 1,
      "outputs": []
    },
    {
      "cell_type": "code",
      "metadata": {
        "id": "9ghrfEWJxiTC",
        "colab": {
          "base_uri": "https://localhost:8080/",
          "height": 35
        },
        "outputId": "a21402a6-1eac-4540-e53b-1fad63e1fa98"
      },
      "source": [
        "# Exercício 2 -Apos inserir dados acima usando o slicing (exemplo no notebook de manipulação de Strings), imprima na tela apenas seu sobrenome\n",
        "nome[8:]"
      ],
      "execution_count": 4,
      "outputs": [
        {
          "output_type": "execute_result",
          "data": {
            "text/plain": [
              "'legal'"
            ],
            "application/vnd.google.colaboratory.intrinsic+json": {
              "type": "string"
            }
          },
          "metadata": {},
          "execution_count": 4
        }
      ]
    },
    {
      "cell_type": "code",
      "metadata": {
        "id": "pw8rY0r9yU9P",
        "colab": {
          "base_uri": "https://localhost:8080/",
          "height": 35
        },
        "outputId": "f415a734-845f-4b6a-fa9f-311b567dd2ca"
      },
      "source": [
        "# Exercício 3 -  imprima seu nome de trás pra frente\n",
        "nome[::-1]"
      ],
      "execution_count": 5,
      "outputs": [
        {
          "output_type": "execute_result",
          "data": {
            "text/plain": [
              "'lagel nizivaD'"
            ],
            "application/vnd.google.colaboratory.intrinsic+json": {
              "type": "string"
            }
          },
          "metadata": {},
          "execution_count": 5
        }
      ]
    },
    {
      "cell_type": "code",
      "metadata": {
        "id": "Pa51fT2Pyd-P"
      },
      "source": [
        "# Exercício 4 - pegue a frase abaixo, aplique o split para fazer uma quebra toda vez que encontrar uma \",\"\n",
        "frase = \"Python é a linguagem ideal para o primeiro contato com programação, além da sua sintaxe simples e muito poderosa, Python tem diversas aplicações como: desenvolvimento web, análise de dados, inteligência artificial e automatização de tarefas, neste curso você aprenderá a lógica de programação para conquistar fluência na linguagem, a comunidade Python é a que mais cresce, assim como sua demanda de profissionais no mercado.\""
      ],
      "execution_count": 6,
      "outputs": []
    },
    {
      "cell_type": "code",
      "source": [
        "frase.split(\",\")"
      ],
      "metadata": {
        "colab": {
          "base_uri": "https://localhost:8080/"
        },
        "id": "78bOAokPBtjQ",
        "outputId": "36c112ed-9d25-4d33-d5c6-7e16b9a1a2e9"
      },
      "execution_count": 7,
      "outputs": [
        {
          "output_type": "execute_result",
          "data": {
            "text/plain": [
              "['Python é a linguagem ideal para o primeiro contato com programação',\n",
              " ' além da sua sintaxe simples e muito poderosa',\n",
              " ' Python tem diversas aplicações como: desenvolvimento web',\n",
              " ' análise de dados',\n",
              " ' inteligência artificial e automatização de tarefas',\n",
              " ' neste curso você aprenderá a lógica de programação para conquistar fluência na linguagem',\n",
              " ' a comunidade Python é a que mais cresce',\n",
              " ' assim como sua demanda de profissionais no mercado.']"
            ]
          },
          "metadata": {},
          "execution_count": 7
        }
      ]
    },
    {
      "cell_type": "code",
      "metadata": {
        "id": "3zXkJzvOgVGQ",
        "colab": {
          "base_uri": "https://localhost:8080/"
        },
        "outputId": "e74d6715-15f7-480a-d081-56e834dd61a6"
      },
      "source": [
        "# Exercício 5 -Imprima na tela os números de 1 a 10. Use uma lista para armazenar os números.\n",
        "num = ['1', '2', '3', '4', '5', '6', '7', '8', '9', '10']\n",
        "print(num)"
      ],
      "execution_count": 10,
      "outputs": [
        {
          "output_type": "stream",
          "name": "stdout",
          "text": [
            "['1', '2', '3', '4', '5', '6', '7', '8', '9', '10']\n"
          ]
        }
      ]
    },
    {
      "cell_type": "code",
      "metadata": {
        "id": "sLiKO51ogVGU",
        "colab": {
          "base_uri": "https://localhost:8080/"
        },
        "outputId": "15a15f96-5684-4152-9fac-e038b02c953b"
      },
      "source": [
        "# Exercício 6 - Crie uma lista de 5 objetos e imprima na tela\n",
        "objetos = ['arroz', 'feijão', 'felipe', 'caju', 'teclado']\n",
        "print (objetos)"
      ],
      "execution_count": 13,
      "outputs": [
        {
          "output_type": "stream",
          "name": "stdout",
          "text": [
            "['arroz', 'feijão', 'felipe', 'caju', 'teclado']\n"
          ]
        }
      ]
    },
    {
      "cell_type": "code",
      "metadata": {
        "id": "4Udf3Y1SgVGW",
        "colab": {
          "base_uri": "https://localhost:8080/"
        },
        "outputId": "71d71cac-20bd-4b74-b8e5-39817406d498"
      },
      "source": [
        "# Exercício 7 - - Crie duas strings e concatene as duas em uma terceira string\n",
        "s1 = \"Davizin\"\n",
        "s2 = \" Cria\"\n",
        "s3 = s1+s2\n",
        "print(s3)"
      ],
      "execution_count": 15,
      "outputs": [
        {
          "output_type": "stream",
          "name": "stdout",
          "text": [
            "Davizin Cria\n"
          ]
        }
      ]
    },
    {
      "cell_type": "code",
      "metadata": {
        "id": "eibOlpxBgVGZ",
        "colab": {
          "base_uri": "https://localhost:8080/"
        },
        "outputId": "ee5b0f7d-2d4f-4264-822c-23f1249e52a2"
      },
      "source": [
        "# Exercício 8 - Crie uma tupla com os seguintes elementos: 1, 2, 2, 3, 4, 4, 4, 5 e depois utilize a função count do\n",
        "# objeto tupla para verificar quantas vezes o número 4 aparece na tupla\n",
        "tupla = ('1', '2', '2', '3', '4', '4', '4', '5')\n",
        "tupla.count('4')"
      ],
      "execution_count": null,
      "outputs": [
        {
          "output_type": "execute_result",
          "data": {
            "text/plain": [
              "3"
            ]
          },
          "metadata": {},
          "execution_count": 16
        }
      ]
    },
    {
      "cell_type": "code",
      "metadata": {
        "id": "N68z5JS9gVGe",
        "colab": {
          "base_uri": "https://localhost:8080/"
        },
        "outputId": "e8d91094-1fc1-400b-d798-b3706cc062a9"
      },
      "source": [
        "# Exercício 9 - Crie um dicionário vazio e imprima na tela\n",
        "dicionario = {}\n",
        "print(dicionario)"
      ],
      "execution_count": 16,
      "outputs": [
        {
          "output_type": "stream",
          "name": "stdout",
          "text": [
            "{}\n"
          ]
        }
      ]
    },
    {
      "cell_type": "code",
      "metadata": {
        "id": "BNR0-SW-gVGg",
        "colab": {
          "base_uri": "https://localhost:8080/"
        },
        "outputId": "a9d3cc73-bbf0-4002-ea2a-ae8bc89b80bf"
      },
      "source": [
        "# Exercício 10 - Crie um dicionário com 3 chaves e 3 valores e imprima na tela\n",
        "prod = {\"Arroz\":12, \"Navegador\":76, \"Tesoura\":41}\n",
        "print(prod)"
      ],
      "execution_count": 18,
      "outputs": [
        {
          "output_type": "stream",
          "name": "stdout",
          "text": [
            "{'Arroz': 12, 'Navegador': 76, 'Tesoura': 41}\n"
          ]
        }
      ]
    },
    {
      "cell_type": "code",
      "metadata": {
        "id": "gXIHe2YegVGj",
        "colab": {
          "base_uri": "https://localhost:8080/"
        },
        "outputId": "1292696e-59c0-477d-81da-ed578d471fc8"
      },
      "source": [
        "# Exercício 11 - Adicione mais um elemento ao dicionário criado no exercício anterior e imprima na tela\n",
        "prod = {\"Arroz\":12, \"Navegador\":76, \"Tesoura\":41}\n",
        "outro = {\"Pipa combate\": 89}\n",
        "prod.update(outro)\n",
        "print(prod)"
      ],
      "execution_count": 19,
      "outputs": [
        {
          "output_type": "stream",
          "name": "stdout",
          "text": [
            "{'Arroz': 12, 'Navegador': 76, 'Tesoura': 41, 'Pipa combate': 89}\n"
          ]
        }
      ]
    },
    {
      "cell_type": "code",
      "metadata": {
        "id": "4BgEJNIegVGn",
        "colab": {
          "base_uri": "https://localhost:8080/"
        },
        "outputId": "a1d6a8c0-4ed0-46bf-c5f4-6a8da5e1288c"
      },
      "source": [
        "# Exercício 12 - Crie um dicionário com 3 chaves e 3 valores. Um dos valores deve ser uma lista de 2 elementos numéricos.\n",
        "# Imprima o dicionário na tela.\n",
        "prod = {\"Arroz\":12, \"Navegador\":76, \"Tesoura\":[\"47\", \"41\"]}\n",
        "print(prod)"
      ],
      "execution_count": 22,
      "outputs": [
        {
          "output_type": "stream",
          "name": "stdout",
          "text": [
            "{'Arroz': 12, 'Navegador': 76, 'Tesoura': ['47', '41']}\n"
          ]
        }
      ]
    },
    {
      "cell_type": "code",
      "metadata": {
        "id": "5z1toDrtgVGp",
        "colab": {
          "base_uri": "https://localhost:8080/"
        },
        "outputId": "fcc1216b-25e2-4fb8-a81d-551a1c8aac2a"
      },
      "source": [
        "# Exercício 13 - Crie uma lista de 4 elementos. O primeiro elemento deve ser uma string,\n",
        "# o segundo uma tupla de 2 elementos, o terceiro um dcionário com 2 chaves e 2 valores e\n",
        "# o quarto elemento um valor do tipo float.\n",
        "# Imprima a lista na tela.\n",
        "lista = [\"TI\", ('PA', 'FI'), {'AD':23, 'APW':61}, 58.2]\n",
        "print(lista)"
      ],
      "execution_count": 24,
      "outputs": [
        {
          "output_type": "stream",
          "name": "stdout",
          "text": [
            "['TI', ('PA', 'FI'), {'AD': 23, 'APW': 61}, 58.2]\n"
          ]
        }
      ]
    },
    {
      "cell_type": "code",
      "metadata": {
        "id": "OH0hchIXgVGw",
        "colab": {
          "base_uri": "https://localhost:8080/",
          "height": 35
        },
        "outputId": "3756c7c0-3bf7-4b6c-f66f-2aa592f46ad2"
      },
      "source": [
        "# Exercício 14 - Considere a string abaixo. Imprima na tela apenas os caracteres da posição 1 a 18.\n",
        "frase = 'Cientista de Dados é o profissional mais sexy do século XXI'\n",
        "frase[0:18]"
      ],
      "execution_count": 26,
      "outputs": [
        {
          "output_type": "execute_result",
          "data": {
            "text/plain": [
              "'Cientista de Dados'"
            ],
            "application/vnd.google.colaboratory.intrinsic+json": {
              "type": "string"
            }
          },
          "metadata": {},
          "execution_count": 26
        }
      ]
    },
    {
      "cell_type": "markdown",
      "source": [
        "## Exercícios de Manipulação de Strings"
      ],
      "metadata": {
        "id": "SsYMJ8JzThCF"
      }
    },
    {
      "cell_type": "code",
      "source": [
        "# 1 - Use o método len para imprimir o comprimento da string.\n",
        "x = \"Hello World\"\n",
        "len(x)"
      ],
      "metadata": {
        "colab": {
          "base_uri": "https://localhost:8080/"
        },
        "id": "C0rM1mMSTqq8",
        "outputId": "9476946c-dedd-4c1f-e015-3549d3bbddaa"
      },
      "execution_count": null,
      "outputs": [
        {
          "output_type": "execute_result",
          "data": {
            "text/plain": [
              "11"
            ]
          },
          "metadata": {},
          "execution_count": 42
        }
      ]
    },
    {
      "cell_type": "code",
      "source": [
        "# 2 - Obtenha o primeiro caractere da string txt.\n",
        "txt = \"Hello World\"\n",
        "txt[0]"
      ],
      "metadata": {
        "colab": {
          "base_uri": "https://localhost:8080/",
          "height": 35
        },
        "id": "jV8jdGqNTtr7",
        "outputId": "c444e899-faf6-4442-af30-f17614fb6bcc"
      },
      "execution_count": 27,
      "outputs": [
        {
          "output_type": "execute_result",
          "data": {
            "text/plain": [
              "'H'"
            ],
            "application/vnd.google.colaboratory.intrinsic+json": {
              "type": "string"
            }
          },
          "metadata": {},
          "execution_count": 27
        }
      ]
    },
    {
      "cell_type": "code",
      "source": [
        "# 3 - Obtenha os caracteres do índice 2 ao índice 4 ( llo).\n",
        "txt = \"Hello World\"\n",
        "txt[2:5]"
      ],
      "metadata": {
        "colab": {
          "base_uri": "https://localhost:8080/",
          "height": 35
        },
        "id": "45jaV05mTwnr",
        "outputId": "1903e35b-ed2a-43a7-aee9-e3aa17deeea2"
      },
      "execution_count": 28,
      "outputs": [
        {
          "output_type": "execute_result",
          "data": {
            "text/plain": [
              "'llo'"
            ],
            "application/vnd.google.colaboratory.intrinsic+json": {
              "type": "string"
            }
          },
          "metadata": {},
          "execution_count": 28
        }
      ]
    },
    {
      "cell_type": "code",
      "source": [
        "# 4 - Converta o valor de txt para maiúsculas.\n",
        "txt = \"Hello World\"\n",
        "txt.upper()"
      ],
      "metadata": {
        "colab": {
          "base_uri": "https://localhost:8080/",
          "height": 35
        },
        "id": "jJgigFpuTzWz",
        "outputId": "c078f34e-74c0-42b0-cd17-33555bb54d93"
      },
      "execution_count": 29,
      "outputs": [
        {
          "output_type": "execute_result",
          "data": {
            "text/plain": [
              "'HELLO WORLD'"
            ],
            "application/vnd.google.colaboratory.intrinsic+json": {
              "type": "string"
            }
          },
          "metadata": {},
          "execution_count": 29
        }
      ]
    },
    {
      "cell_type": "code",
      "source": [
        "# - Conte quantas vezes aparece a palavra \"de\" na string abaixo\n",
        "txt = \"Eu gosto de vijar, tomar vinho, de estudar estudar programação, de estudar Pyhon\"\n",
        "txt.count('de')"
      ],
      "metadata": {
        "colab": {
          "base_uri": "https://localhost:8080/"
        },
        "id": "jJRgy48VT1WD",
        "outputId": "4d9b4585-5833-4104-aa59-8d6d820a0ebb"
      },
      "execution_count": 31,
      "outputs": [
        {
          "output_type": "execute_result",
          "data": {
            "text/plain": [
              "3"
            ]
          },
          "metadata": {},
          "execution_count": 31
        }
      ]
    },
    {
      "cell_type": "code",
      "source": [
        "# - Separe a frase abaixo toda vez que encontrar um vírgula\n",
        "txt = \"Eu gosto de vijar, tomar vinho, de estudar estudar programação, de estudar Pyhon\"\n",
        "txt.split(',')"
      ],
      "metadata": {
        "colab": {
          "base_uri": "https://localhost:8080/"
        },
        "id": "m7gJn-yBT4rD",
        "outputId": "439e3b91-85fb-4fb5-bc6f-6afee1400dbd"
      },
      "execution_count": 32,
      "outputs": [
        {
          "output_type": "execute_result",
          "data": {
            "text/plain": [
              "['Eu gosto de vijar',\n",
              " ' tomar vinho',\n",
              " ' de estudar estudar programação',\n",
              " ' de estudar Pyhon']"
            ]
          },
          "metadata": {},
          "execution_count": 32
        }
      ]
    },
    {
      "cell_type": "markdown",
      "metadata": {
        "id": "XivMVqDbg8Jm"
      },
      "source": [
        "## APÓS TERMINAR OS EXERCÍCIOS COMPARTILHAR LINK COMIGO: profcintiapinho@gmail.com\n"
      ]
    },
    {
      "cell_type": "markdown",
      "metadata": {
        "id": "jKsgA0T3gVGy"
      },
      "source": [
        "# Fim"
      ]
    }
  ]
}